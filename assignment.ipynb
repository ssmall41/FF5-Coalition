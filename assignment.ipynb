{
 "cells": [
  {
   "cell_type": "markdown",
   "id": "c276be89-f1fd-43c0-a4b4-b286a7c637f6",
   "metadata": {},
   "source": [
    "## To Do\n",
    "* Compare to randomly generated parties\n",
    "* Add more modes (Normal, Typhoon, Valcano, Duplicates, 750, no750, 375, Classic?, Onion?)\n",
    "* Try NN based embeddings\n",
    "* Make something available on the web (1st iteration, maybe with Google Forms or Sheets)\n",
    "* Ping Discord Channel for feedback"
   ]
  },
  {
   "cell_type": "code",
   "execution_count": null,
   "id": "c4a094a9-ad77-4077-abc7-0022d65a7960",
   "metadata": {},
   "outputs": [],
   "source": [
    "import numpy as np\n",
    "import pandas as pd\n",
    "from numpy.linalg import norm\n",
    "from random import randint, seed\n",
    "from time import time\n",
    "\n",
    "from data import load_data, load_party_embeddings, save_party_embeddings\n",
    "from embeddings import calculate_party_embeddings\n",
    "from experiment import run_trials\n",
    "from generate_possible_jobs import generate_possible_jobs\n",
    "from select_parties import select_parties_by_embeddings\n",
    "\n",
    "seed(a=None)  # Initialize the random seed"
   ]
  },
  {
   "cell_type": "code",
   "execution_count": null,
   "id": "e2b28529-fb7d-458e-9ef7-384bc392f7a8",
   "metadata": {},
   "outputs": [],
   "source": [
    "# Set some parameters\n",
    "equip_factor = 0.5\n",
    "should_calculate_party_embeddings = False\n",
    "party_embeddings_filename = f\"data/embeddings_meteor_duplicates_eq{equip_factor}.csv\""
   ]
  },
  {
   "cell_type": "code",
   "execution_count": null,
   "id": "b174879c-0d63-4d36-a985-00cd7025581b",
   "metadata": {},
   "outputs": [],
   "source": [
    "# Load data for each job\n",
    "df_jobs, stat_cols = load_data(\"data_jobs/job_data_embeddings.csv\")"
   ]
  },
  {
   "cell_type": "code",
   "execution_count": null,
   "id": "b4c6e333-8657-4bdb-a64a-610c19a458a3",
   "metadata": {},
   "outputs": [],
   "source": [
    "# Generate all possible parties\n",
    "start = time()\n",
    "valid_parties = generate_possible_jobs(style=\"Meteor\", df_jobs=df_jobs, stat_cols=stat_cols)\n",
    "stop = time()\n",
    "print(f\"Needed {stop-start} seconds.\")"
   ]
  },
  {
   "cell_type": "code",
   "execution_count": null,
   "id": "4e90646c-fbf4-441c-861f-e32bc69c1c10",
   "metadata": {},
   "outputs": [],
   "source": [
    "# Calculate or load the party embeddings\n",
    "start = time()\n",
    "if should_calculate_party_embeddings:\n",
    "    print(\"Calculating party embeddings...\")\n",
    "    valid_parties_embeddings = calculate_party_embeddings(valid_parties, df_jobs, stat_cols, equip_factor)\n",
    "    save_party_embeddings(party_embeddings_filename, valid_parties_embeddings)\n",
    "else:\n",
    "    print(\"Loading party embeddings...\")\n",
    "    valid_parties_embeddings = load_party_embeddings(party_embeddings_filename)\n",
    "stop = time()\n",
    "print(f\"Needed {stop-start} seconds.\")"
   ]
  },
  {
   "cell_type": "code",
   "execution_count": null,
   "id": "a07f358e-60a3-4559-ace7-16ec837c12c1",
   "metadata": {},
   "outputs": [],
   "source": [
    "# Try selecting jobs\n",
    "start = time()\n",
    "selected_parties = select_parties_by_embeddings(valid_parties_embeddings, num_parties=5, eps=10.0)\n",
    "stop = time()\n",
    "print(f\"Needed {stop-start} seconds.\")\n",
    "\n",
    "for idx, party_tuple in enumerate(selected_parties):\n",
    "    print(f\"{idx} {party_tuple[0]}\")"
   ]
  },
  {
   "cell_type": "code",
   "execution_count": null,
   "id": "efe41c8a-f083-4b6b-88db-6e3255737ed0",
   "metadata": {},
   "outputs": [],
   "source": [
    "# Try some trials\n",
    "trials = run_trials(valid_parties_embeddings, num_parties=5, num_trials=5, eps=3.0)\n",
    "print(trials)"
   ]
  },
  {
   "cell_type": "code",
   "execution_count": null,
   "id": "9bb02267-9647-45b4-b08d-31848e0ad0c0",
   "metadata": {},
   "outputs": [],
   "source": []
  },
  {
   "cell_type": "code",
   "execution_count": null,
   "id": "0cd46ad9-508d-4017-9181-f51516f8e3f7",
   "metadata": {},
   "outputs": [],
   "source": []
  },
  {
   "cell_type": "code",
   "execution_count": null,
   "id": "3f728a44-3349-4859-8a6d-94c92d0afc57",
   "metadata": {},
   "outputs": [],
   "source": []
  }
 ],
 "metadata": {
  "kernelspec": {
   "display_name": "Python 3 (ipykernel)",
   "language": "python",
   "name": "python3"
  },
  "language_info": {
   "codemirror_mode": {
    "name": "ipython",
    "version": 3
   },
   "file_extension": ".py",
   "mimetype": "text/x-python",
   "name": "python",
   "nbconvert_exporter": "python",
   "pygments_lexer": "ipython3",
   "version": "3.10.12"
  }
 },
 "nbformat": 4,
 "nbformat_minor": 5
}
