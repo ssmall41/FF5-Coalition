{
 "cells": [
  {
   "cell_type": "markdown",
   "id": "c276be89-f1fd-43c0-a4b4-b286a7c637f6",
   "metadata": {},
   "source": [
    "## To Do\n",
    "* Compare to randomly generated parties\n",
    "* Clean up the code\n",
    "* Add more modes (Normal, Typhoon, Valcano, Duplicates, 750, no750, 375, Classic?, Onion?)\n",
    "* Try NN based embeddings\n",
    "* Make something available on the web (1st iteration, maybe with Google Forms or Sheets)\n",
    "* Ping Discord Channel for feedback"
   ]
  },
  {
   "cell_type": "code",
   "execution_count": 1,
   "id": "c4a094a9-ad77-4077-abc7-0022d65a7960",
   "metadata": {},
   "outputs": [],
   "source": [
    "from copy import copy\n",
    "import numpy as np\n",
    "import pandas as pd\n",
    "from numpy.linalg import norm\n",
    "from random import randint, seed\n",
    "from time import time\n",
    "\n",
    "from embeddings import calculate_job_embedding, calculate_stats_embedding\n",
    "from generate_possible_jobs import generate_possible_jobs\n",
    "\n",
    "seed(a=None)  # Initialize the random seed"
   ]
  },
  {
   "cell_type": "code",
   "execution_count": 2,
   "id": "b174879c-0d63-4d36-a985-00cd7025581b",
   "metadata": {},
   "outputs": [],
   "source": [
    "df_raw = pd.read_csv(\"job_data_embeddings.csv\", index_col=\"Job\")\n",
    "#print(df_raw)\n",
    "\n",
    "# Normalize stat values\n",
    "stat_cols = [\"Strength\", \"Agility\", \"Vitality\", \"Magic\"]\n",
    "df_jobs = df_raw.copy()\n",
    "#for col in stat_cols:\n",
    "#    df_jobs[col] = df_raw[col] / abs(df_raw[col]).max()\n",
    "#print(df_jobs)"
   ]
  },
  {
   "cell_type": "code",
   "execution_count": 3,
   "id": "b4c6e333-8657-4bdb-a64a-610c19a458a3",
   "metadata": {},
   "outputs": [
    {
     "name": "stdout",
     "output_type": "stream",
     "text": [
      "Needed 14.025873899459839 seconds.\n"
     ]
    }
   ],
   "source": [
    "# Generate all possible parties\n",
    "start = time()\n",
    "valid_parties = generate_possible_jobs(style=\"Meteor\", df_jobs=df_jobs, stat_cols=stat_cols)\n",
    "stop = time()\n",
    "print(f\"Needed {stop-start} seconds.\")"
   ]
  },
  {
   "cell_type": "code",
   "execution_count": 4,
   "id": "7da8ad80-5095-45c4-936a-f75fd4f57d22",
   "metadata": {},
   "outputs": [],
   "source": [
    "def calculate_embeddings(valid_parties, df_jobs, stat_cols, equip_factor=1.0):\n",
    "    \"\"\" Go through each valid party and attach additional embeddings \"\"\"\n",
    "\n",
    "    counter = 0\n",
    "    valid_parties_embeddings = []\n",
    "\n",
    "    # For the stats embedding, calculate the max values of each stat\n",
    "    # Divide by 4 to keep the values between -1 and 1\n",
    "    max_values = abs(df_jobs[stat_cols]).max() * 4.0\n",
    "    \n",
    "    for party_str, _ in valid_parties:\n",
    "\n",
    "        if counter % 10000 == 0:\n",
    "            print(f\"On {counter} / {len(valid_parties)}\")\n",
    "        counter += 1\n",
    "\n",
    "        # Calculate the style and equipment embeddings\n",
    "        chosen_party = party_str.split(\",\")\n",
    "        style_equip_embedding = calculate_job_embedding(chosen_party, df_jobs, stat_cols, equip_factor)\n",
    "\n",
    "        # Calculate the stats embeddings\n",
    "        stats_embedding = calculate_stats_embedding(chosen_party, df_jobs, stat_cols, max_values)\n",
    "        \n",
    "        # Put the embeddings together\n",
    "        valid_parties_embeddings.append((party_str, np.concatenate([stats_embedding, style_equip_embedding])))\n",
    "\n",
    "    return valid_parties_embeddings\n",
    "\n",
    "def embeddings_to_dataframe(embeddings):\n",
    "    \"\"\" Converts embeddings from valid parties to a dataframe. Saving and loading is easier. \"\"\"\n",
    "    \n",
    "    df = pd.DataFrame(data=[t[1] for t in valid_parties_embeddings], index=[t[0] for t in valid_parties_embeddings])\n",
    "    return df\n",
    "\n",
    "def dataframe_to_tuple_array(df_embeddings):\n",
    "    tuple_array = []\n",
    "    for idx, row in df_embeddings.iterrows():\n",
    "        tuple_array.append((idx, row.to_numpy()))\n",
    "    return tuple_array\n"
   ]
  },
  {
   "cell_type": "code",
   "execution_count": 5,
   "id": "4e90646c-fbf4-441c-861f-e32bc69c1c10",
   "metadata": {},
   "outputs": [
    {
     "name": "stdout",
     "output_type": "stream",
     "text": [
      "On 0 / 234256\n",
      "On 10000 / 234256\n",
      "On 20000 / 234256\n",
      "On 30000 / 234256\n",
      "On 40000 / 234256\n",
      "On 50000 / 234256\n",
      "On 60000 / 234256\n",
      "On 70000 / 234256\n",
      "On 80000 / 234256\n",
      "On 90000 / 234256\n",
      "On 100000 / 234256\n",
      "On 110000 / 234256\n",
      "On 120000 / 234256\n",
      "On 130000 / 234256\n",
      "On 140000 / 234256\n",
      "On 150000 / 234256\n",
      "On 160000 / 234256\n",
      "On 170000 / 234256\n",
      "On 180000 / 234256\n",
      "On 190000 / 234256\n",
      "On 200000 / 234256\n",
      "On 210000 / 234256\n",
      "On 220000 / 234256\n",
      "On 230000 / 234256\n",
      "Needed 1033.2380809783936 seconds.\n"
     ]
    }
   ],
   "source": [
    "equip_factor = 0.5\n",
    "\n",
    "start = time()\n",
    "valid_parties_embeddings = calculate_embeddings(valid_parties, df_jobs, stat_cols, equip_factor)\n",
    "df_embeddings = embeddings_to_dataframe(valid_parties_embeddings)\n",
    "df_embeddings.to_csv(f\"embeddings_meteor_duplicates_eq{equip_factor}.csv\")\n",
    "stop = time()\n",
    "print(f\"Needed {stop-start} seconds.\")"
   ]
  },
  {
   "cell_type": "code",
   "execution_count": 6,
   "id": "f1957978-667a-4b03-b2de-b1dfe880f1d9",
   "metadata": {},
   "outputs": [
    {
     "data": {
      "text/plain": [
       "('Bard,Bard,Bard,Bard',\n",
       " array([-0.30769231,  0.5       , -0.34615385,  0.33333333,  0.        ,\n",
       "         0.        ,  0.        ,  0.25      ,  0.5       ,  0.5       ,\n",
       "         0.5       ,  0.5       ,  0.5       ,  0.5       ,  0.5       ,\n",
       "         0.5       ,  0.5       ,  0.5       ,  0.5       ,  0.5       ,\n",
       "         0.5       ,  0.5       ,  0.5       ,  0.5       ,  0.        ,\n",
       "         0.        ,  0.        ,  0.25      ,  0.5       ,  0.5       ,\n",
       "         0.5       ,  0.5       ,  0.5       ,  0.5       ,  0.5       ,\n",
       "         0.5       ,  0.5       ,  0.5       ,  0.5       ,  0.5       ,\n",
       "         0.5       ,  0.5       ,  0.5       ,  0.5       ,  0.        ,\n",
       "         0.        ,  0.75      ,  0.        ,  0.5       ,  0.        ,\n",
       "         0.        ,  0.        ,  0.        ,  0.        ,  0.        ,\n",
       "         0.        ,  0.        ,  0.        ,  0.        ,  0.5       ,\n",
       "         0.        ,  0.        ,  0.        ,  0.        ,  0.        ,\n",
       "         0.        ,  1.        ,  0.        ,  0.5       ,  0.        ,\n",
       "         0.        ,  0.        ,  0.        ,  0.        ,  0.        ,\n",
       "         0.        ,  0.        ,  0.        ,  0.        ,  0.5       ,\n",
       "         0.        ,  0.        ,  0.        ,  0.        ]))"
      ]
     },
     "execution_count": 6,
     "metadata": {},
     "output_type": "execute_result"
    }
   ],
   "source": [
    "valid_parties_embeddings[0]"
   ]
  },
  {
   "cell_type": "code",
   "execution_count": null,
   "id": "5f98a80d-e4ed-406b-82d4-11fd35a887f8",
   "metadata": {},
   "outputs": [],
   "source": [
    "df_embeddings = embeddings_to_dataframe(valid_parties_embeddings)\n",
    "df_embeddings.to_csv(\"embeddings_meteor_duplicates.csv\")"
   ]
  },
  {
   "cell_type": "code",
   "execution_count": null,
   "id": "3449e7ba-3bf0-4058-919d-6516018fa8cb",
   "metadata": {},
   "outputs": [],
   "source": [
    "df_embeddings = pd.read_csv(\"embeddings_meteor_duplicates.csv\", index_col=0)\n",
    "valid_parties_embeddings = dataframe_to_tuple_array(df_embeddings)"
   ]
  },
  {
   "cell_type": "code",
   "execution_count": 7,
   "id": "4d1470df-943b-41b1-abb5-6e63c7047676",
   "metadata": {},
   "outputs": [
    {
     "data": {
      "text/plain": [
       "234256"
      ]
     },
     "execution_count": 7,
     "metadata": {},
     "output_type": "execute_result"
    }
   ],
   "source": [
    "len(valid_parties_embeddings)"
   ]
  },
  {
   "cell_type": "code",
   "execution_count": null,
   "id": "1ef7e411-84d2-43fa-82e1-c5dc69d08968",
   "metadata": {},
   "outputs": [],
   "source": []
  },
  {
   "cell_type": "code",
   "execution_count": null,
   "id": "a2c51360-46fc-4664-83fd-0d4c3c8534a0",
   "metadata": {},
   "outputs": [],
   "source": []
  },
  {
   "cell_type": "code",
   "execution_count": 8,
   "id": "601910d2-402f-49bc-b87f-c5fd6ebaa818",
   "metadata": {},
   "outputs": [],
   "source": [
    "def select_jobs(valid_parties, num_parties=10, eps=1.0):\n",
    "\n",
    "    available_parties = copy(valid_parties)  # Maybe a copy is too much...\n",
    "    selected_parties = []\n",
    "    unavailable_parties = []\n",
    "    #still_available_parties = []\n",
    "\n",
    "    if num_parties > len(valid_parties):\n",
    "        num_parties = len(valid_parties)\n",
    "        print(f\"Notice: num_parties was larger than the number of valid parties. Setting num_parties to {num_parties}.\")\n",
    "    \n",
    "    for idx_party in range(0, num_parties):\n",
    "\n",
    "        # Select a party\n",
    "        chosen_party_idx = randint(0, len(available_parties)-1)\n",
    "        selected_parties.append(available_parties[chosen_party_idx])\n",
    "        available_parties[chosen_party_idx] = available_parties[-1]\n",
    "        available_parties.pop()\n",
    "\n",
    "        #print(selected_parties)\n",
    "        \n",
    "        # Organize the available parties by whether they are close to the chosen party or not\n",
    "        close_parties, far_parties = organize_parties(selected_parties[-1][1], available_parties, eps)\n",
    "        available_parties = far_parties\n",
    "        unavailable_parties += close_parties\n",
    "\n",
    "        # Make sure there there are still parties available. If not, decrease eps.\n",
    "        if len(selected_parties) != len(valid_parties):\n",
    "            while len(available_parties) == 0:\n",
    "                eps *= 0.8\n",
    "                available_parties = unavailable_parties  # Make all remaining parties available again\n",
    "                unavailable_parties = []\n",
    "    \n",
    "                print(\"Notice: Available parties are too close to selected parties.\")\n",
    "                print(f\"Trying eps = {eps} for party {idx_party+1}\")\n",
    "                \n",
    "                # Make parties unavailable again if they are too close to an already selected party\n",
    "                for selected_party in selected_parties:\n",
    "                    close_parties, far_parties = organize_parties(selected_party[1], available_parties, eps)\n",
    "                    available_parties = far_parties\n",
    "                    unavailable_parties += close_parties\n",
    "\n",
    "    return selected_parties\n",
    "        \n",
    "\n",
    "def organize_parties(chosen_party_embedding, available_parties, eps=1.0):\n",
    "    close_parties = []\n",
    "    far_parties = []\n",
    "\n",
    "    for party_idx, party_embedding in available_parties:\n",
    "        if norm(chosen_party_embedding - party_embedding, ord=2) < eps:\n",
    "            close_parties.append((party_idx, party_embedding))\n",
    "        else:\n",
    "            far_parties.append((party_idx, party_embedding))\n",
    "\n",
    "    return close_parties, far_parties"
   ]
  },
  {
   "cell_type": "code",
   "execution_count": 9,
   "id": "a07f358e-60a3-4559-ace7-16ec837c12c1",
   "metadata": {},
   "outputs": [
    {
     "name": "stdout",
     "output_type": "stream",
     "text": [
      "Notice: Available parties are too close to selected parties.\n",
      "Trying eps = 8.0 for party 1\n",
      "Notice: Available parties are too close to selected parties.\n",
      "Trying eps = 6.4 for party 1\n",
      "Notice: Available parties are too close to selected parties.\n",
      "Trying eps = 5.120000000000001 for party 1\n",
      "Notice: Available parties are too close to selected parties.\n",
      "Trying eps = 4.096000000000001 for party 1\n",
      "Notice: Available parties are too close to selected parties.\n",
      "Trying eps = 3.276800000000001 for party 2\n",
      "Notice: Available parties are too close to selected parties.\n",
      "Trying eps = 2.621440000000001 for party 4\n",
      "Needed 7.088461399078369 seconds.\n"
     ]
    }
   ],
   "source": [
    "start = time()\n",
    "selected_parties = select_jobs(valid_parties_embeddings, num_parties=5, eps=10.0)\n",
    "stop = time()\n",
    "print(f\"Needed {stop-start} seconds.\")"
   ]
  },
  {
   "cell_type": "code",
   "execution_count": 10,
   "id": "7ae49907-1625-4887-ba5b-ca183b539940",
   "metadata": {},
   "outputs": [
    {
     "name": "stdout",
     "output_type": "stream",
     "text": [
      "0 Black Mage,Ninja,Thief,Thief\n",
      "1 Freelancer,Monk,Monk,Berserker\n",
      "2 Bard,Geomancer,Time Mage,Time Mage\n",
      "3 Samurai,Monk,Monk,Dragoon\n",
      "4 Knight,Bard,White Mage,Chemist\n"
     ]
    }
   ],
   "source": [
    "for idx, party_tuple in enumerate(selected_parties):\n",
    "    print(f\"{idx} {party_tuple[0]}\")"
   ]
  },
  {
   "cell_type": "code",
   "execution_count": 11,
   "id": "410ae3c0-5d26-4655-8f45-e2b694baa53f",
   "metadata": {},
   "outputs": [],
   "source": [
    "def generate_comparison_matrix(selected_parties):\n",
    "\n",
    "    comparison_matrix = np.zeros((len(selected_parties), len(selected_parties)), dtype=float)\n",
    "    \n",
    "    for row_idx, row_tuple in enumerate(selected_parties):\n",
    "        for col_idx, col_tuple in enumerate(selected_parties):\n",
    "            _, embedding_row = row_tuple\n",
    "            _, embedding_col = col_tuple\n",
    "            comparison_matrix[row_idx][col_idx] = norm(embedding_row - embedding_col, ord=2)\n",
    "    return comparison_matrix"
   ]
  },
  {
   "cell_type": "code",
   "execution_count": 12,
   "id": "8944a959-75fd-49a8-b8f6-9ac20b0405ea",
   "metadata": {},
   "outputs": [],
   "source": [
    "def run_trials(valid_parties_embeddings, num_parties, num_trials, eps):\n",
    "    trials = []\n",
    "    for t in range(num_trials):\n",
    "        print(f\"Trial {t} #######\")\n",
    "        selected_parties = select_jobs(valid_parties_embeddings, num_parties, eps)\n",
    "        comparison_matrix = generate_comparison_matrix(selected_parties)\n",
    "        \n",
    "        trials.append(([p[0] for p in selected_parties], comparison_matrix))\n",
    "    return trials"
   ]
  },
  {
   "cell_type": "code",
   "execution_count": 17,
   "id": "efe41c8a-f083-4b6b-88db-6e3255737ed0",
   "metadata": {},
   "outputs": [
    {
     "name": "stdout",
     "output_type": "stream",
     "text": [
      "Trial 0 #######\n",
      "Notice: Available parties are too close to selected parties.\n",
      "Trying eps = 2.4000000000000004 for party 4\n",
      "Trial 1 #######\n",
      "Notice: Available parties are too close to selected parties.\n",
      "Trying eps = 2.4000000000000004 for party 5\n",
      "Trial 2 #######\n",
      "Notice: Available parties are too close to selected parties.\n",
      "Trying eps = 2.4000000000000004 for party 5\n",
      "Trial 3 #######\n",
      "Notice: Available parties are too close to selected parties.\n",
      "Trying eps = 2.4000000000000004 for party 5\n",
      "Trial 4 #######\n",
      "Notice: Available parties are too close to selected parties.\n",
      "Trying eps = 2.4000000000000004 for party 4\n"
     ]
    }
   ],
   "source": [
    "trials = run_trials(valid_parties_embeddings, num_parties=5, num_trials=5, eps=3.0)"
   ]
  },
  {
   "cell_type": "code",
   "execution_count": 18,
   "id": "b0c41289-b3eb-42fe-bf7a-8585d14b510f",
   "metadata": {},
   "outputs": [
    {
     "data": {
      "text/plain": [
       "[(['Mime,Summoner,Berserker,White Mage',\n",
       "   'Mime,Dragoon,Samurai,Dragoon',\n",
       "   'Knight,Ninja,Berserker,Dragoon',\n",
       "   'White Mage,Thief,Freelancer,Chemist',\n",
       "   'Geomancer,Bard,Thief,Beastmaster'],\n",
       "  array([[0.        , 3.04265368, 3.03942328, 3.364575  , 2.82537783],\n",
       "         [3.04265368, 0.        , 3.24514628, 3.46657724, 2.61328598],\n",
       "         [3.03942328, 3.24514628, 0.        , 3.06721928, 3.58164933],\n",
       "         [3.364575  , 3.46657724, 3.06721928, 0.        , 3.65381455],\n",
       "         [2.82537783, 2.61328598, 3.58164933, 3.65381455, 0.        ]])),\n",
       " (['Time Mage,Summoner,Dragoon,Berserker',\n",
       "   'Beastmaster,Ranger,Ranger,Ranger',\n",
       "   'Monk,Ranger,Knight,Summoner',\n",
       "   'White Mage,Freelancer,Freelancer,Dragoon',\n",
       "   'Ranger,Thief,Freelancer,Ninja'],\n",
       "  array([[0.        , 3.04824685, 3.01508693, 3.71056897, 3.03144025],\n",
       "         [3.04824685, 0.        , 3.48379969, 3.63454141, 3.23445306],\n",
       "         [3.01508693, 3.48379969, 0.        , 3.33467909, 3.37793202],\n",
       "         [3.71056897, 3.63454141, 3.33467909, 0.        , 3.01968763],\n",
       "         [3.03144025, 3.23445306, 3.37793202, 3.01968763, 0.        ]])),\n",
       " (['Mime,Thief,Blue Mage,Time Mage',\n",
       "   'Dancer,Freelancer,Summoner,Ninja',\n",
       "   'Knight,Dragoon,Ranger,Berserker',\n",
       "   'Samurai,Samurai,Monk,Samurai',\n",
       "   'White Mage,White Mage,White Mage,Freelancer'],\n",
       "  array([[0.        , 3.04501209, 3.09040553, 3.11048077, 3.09422106],\n",
       "         [3.04501209, 0.        , 3.66537748, 3.23119789, 3.58275949],\n",
       "         [3.09040553, 3.66537748, 0.        , 3.0392386 , 3.29226912],\n",
       "         [3.11048077, 3.23119789, 3.0392386 , 0.        , 4.04460945],\n",
       "         [3.09422106, 3.58275949, 3.29226912, 4.04460945, 0.        ]])),\n",
       " (['Knight,White Mage,Blue Mage,Mime',\n",
       "   'Ninja,Thief,Geomancer,Mystic Knight',\n",
       "   'Time Mage,Freelancer,Dancer,Beastmaster',\n",
       "   'Samurai,Samurai,Monk,Samurai',\n",
       "   'Monk,Monk,Freelancer,Berserker'],\n",
       "  array([[0.        , 3.11043182, 3.42410502, 3.35084969, 3.09935678],\n",
       "         [3.11043182, 0.        , 3.17704413, 3.01107043, 3.70913604],\n",
       "         [3.42410502, 3.17704413, 0.        , 3.21979558, 3.33340688],\n",
       "         [3.35084969, 3.01107043, 3.21979558, 0.        , 4.00045807],\n",
       "         [3.09935678, 3.70913604, 3.33340688, 4.00045807, 0.        ]])),\n",
       " (['Mystic Knight,Berserker,White Mage,Geomancer',\n",
       "   'Freelancer,Thief,Mime,Blue Mage',\n",
       "   'Black Mage,Beastmaster,Dancer,Freelancer',\n",
       "   'Monk,Monk,Samurai,Monk',\n",
       "   'Bard,Dancer,Time Mage,Blue Mage'],\n",
       "  array([[0.        , 3.00826287, 3.06268482, 3.18501874, 2.57348775],\n",
       "         [3.00826287, 0.        , 3.28827686, 4.43637176, 2.47696743],\n",
       "         [3.06268482, 3.28827686, 0.        , 3.07694869, 3.30221959],\n",
       "         [3.18501874, 4.43637176, 3.07694869, 0.        , 4.06782771],\n",
       "         [2.57348775, 2.47696743, 3.30221959, 4.06782771, 0.        ]]))]"
      ]
     },
     "execution_count": 18,
     "metadata": {},
     "output_type": "execute_result"
    }
   ],
   "source": [
    "trials"
   ]
  },
  {
   "cell_type": "code",
   "execution_count": null,
   "id": "9bb02267-9647-45b4-b08d-31848e0ad0c0",
   "metadata": {},
   "outputs": [],
   "source": []
  },
  {
   "cell_type": "code",
   "execution_count": null,
   "id": "0cd46ad9-508d-4017-9181-f51516f8e3f7",
   "metadata": {},
   "outputs": [],
   "source": []
  },
  {
   "cell_type": "code",
   "execution_count": null,
   "id": "3f728a44-3349-4859-8a6d-94c92d0afc57",
   "metadata": {},
   "outputs": [],
   "source": []
  },
  {
   "cell_type": "markdown",
   "id": "3f547331-a68b-4760-aafc-93ef122bdaa0",
   "metadata": {},
   "source": [
    "## Testing"
   ]
  },
  {
   "cell_type": "code",
   "execution_count": null,
   "id": "7f675b8d-a7b5-41f3-8a6f-9804078cde99",
   "metadata": {},
   "outputs": [],
   "source": [
    "# Bards vs physical\n",
    "print(norm(valid_jobs[0][1] - valid_jobs[97145][1], ord=2))\n",
    "\n",
    "# Bards vs almost bards\n",
    "print(norm(valid_jobs[0][1] - valid_jobs[1][1], ord=2))"
   ]
  },
  {
   "cell_type": "code",
   "execution_count": null,
   "id": "51e1bce5-8dc6-4eb3-b2d8-5cb2a5e66aad",
   "metadata": {},
   "outputs": [],
   "source": []
  },
  {
   "cell_type": "code",
   "execution_count": null,
   "id": "254985c3-e3de-472e-8aeb-dc99b8418288",
   "metadata": {},
   "outputs": [],
   "source": []
  },
  {
   "cell_type": "code",
   "execution_count": null,
   "id": "04f4dde9-de62-4b2c-844c-5d4354817a30",
   "metadata": {},
   "outputs": [],
   "source": []
  },
  {
   "cell_type": "code",
   "execution_count": null,
   "id": "58432045-fd14-4438-82dd-bdab7c9d28b7",
   "metadata": {},
   "outputs": [],
   "source": []
  },
  {
   "cell_type": "code",
   "execution_count": null,
   "id": "3fd2ed7d-a495-4b2b-97fe-8c5ce2615b6d",
   "metadata": {},
   "outputs": [],
   "source": []
  }
 ],
 "metadata": {
  "kernelspec": {
   "display_name": "Python 3 (ipykernel)",
   "language": "python",
   "name": "python3"
  },
  "language_info": {
   "codemirror_mode": {
    "name": "ipython",
    "version": 3
   },
   "file_extension": ".py",
   "mimetype": "text/x-python",
   "name": "python",
   "nbconvert_exporter": "python",
   "pygments_lexer": "ipython3",
   "version": "3.10.12"
  }
 },
 "nbformat": 4,
 "nbformat_minor": 5
}
