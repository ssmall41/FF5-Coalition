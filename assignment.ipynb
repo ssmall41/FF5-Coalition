{
 "cells": [
  {
   "cell_type": "markdown",
   "id": "c276be89-f1fd-43c0-a4b4-b286a7c637f6",
   "metadata": {},
   "source": [
    "## To Do\n",
    "* Add more modes (Normal, Typhoon, Valcano, Duplicates, 750, no750, 375, Classic?, Onion?)\n",
    "* Other embedding ideas (one-hot encode classes)\n",
    "* Try NN based embeddings\n",
    "* Make something available on the web (1st iteration, maybe with Google Forms or Sheets)\n",
    "* Ping Discord Channel for feedback"
   ]
  },
  {
   "cell_type": "code",
   "execution_count": 1,
   "id": "c4a094a9-ad77-4077-abc7-0022d65a7960",
   "metadata": {},
   "outputs": [],
   "source": [
    "import numpy as np\n",
    "import pandas as pd\n",
    "from numpy.linalg import norm\n",
    "from random import randint, seed\n",
    "from time import time\n",
    "\n",
    "from data import load_data, load_party_embeddings, save_party_embeddings\n",
    "from embeddings import calculate_party_embeddings\n",
    "from experiment import run_trials\n",
    "from generate_possible_jobs import generate_possible_parties\n",
    "from select_parties import select_parties_by_embeddings, select_parties_randomly\n",
    "\n",
    "seed(a=None)  # Initialize the random seed"
   ]
  },
  {
   "cell_type": "code",
   "execution_count": 9,
   "id": "e2b28529-fb7d-458e-9ef7-384bc392f7a8",
   "metadata": {},
   "outputs": [],
   "source": [
    "# Set some parameters\n",
    "run_style = \"Meteor\"\n",
    "duplicates = False\n",
    "equip_factor = 0.5\n",
    "should_calculate_party_embeddings = True\n",
    "if duplicates:\n",
    "    party_embeddings_filename = f\"data/embeddings_meteor_duplicates_eq{equip_factor}.csv\"\n",
    "else:\n",
    "    party_embeddings_filename = f\"data/embeddings_meteor_eq{equip_factor}.csv\""
   ]
  },
  {
   "cell_type": "code",
   "execution_count": 3,
   "id": "b174879c-0d63-4d36-a985-00cd7025581b",
   "metadata": {},
   "outputs": [],
   "source": [
    "# Load data for each job\n",
    "df_jobs, stat_cols = load_data(\"data_jobs/job_data_embeddings.csv\")"
   ]
  },
  {
   "cell_type": "code",
   "execution_count": 4,
   "id": "b4c6e333-8657-4bdb-a64a-610c19a458a3",
   "metadata": {},
   "outputs": [
    {
     "name": "stdout",
     "output_type": "stream",
     "text": [
      "Needed 10.488719940185547 seconds.\n"
     ]
    }
   ],
   "source": [
    "# Generate all possible parties\n",
    "start = time()\n",
    "valid_parties = generate_possible_parties(run=run_style, df_jobs=df_jobs, stat_cols=stat_cols, duplicates=duplicates)\n",
    "stop = time()\n",
    "print(f\"Needed {stop-start} seconds.\")"
   ]
  },
  {
   "cell_type": "code",
   "execution_count": 10,
   "id": "4e90646c-fbf4-441c-861f-e32bc69c1c10",
   "metadata": {},
   "outputs": [
    {
     "name": "stdout",
     "output_type": "stream",
     "text": [
      "Calculating party embeddings...\n",
      "On 0 / 175560\n",
      "On 10000 / 175560\n",
      "On 20000 / 175560\n",
      "On 30000 / 175560\n",
      "On 40000 / 175560\n",
      "On 50000 / 175560\n",
      "On 60000 / 175560\n",
      "On 70000 / 175560\n",
      "On 80000 / 175560\n",
      "On 90000 / 175560\n",
      "On 100000 / 175560\n",
      "On 110000 / 175560\n",
      "On 120000 / 175560\n",
      "On 130000 / 175560\n",
      "On 140000 / 175560\n",
      "On 150000 / 175560\n",
      "On 160000 / 175560\n",
      "On 170000 / 175560\n",
      "Needed 779.229150056839 seconds.\n"
     ]
    }
   ],
   "source": [
    "# Calculate or load the party embeddings\n",
    "start = time()\n",
    "if should_calculate_party_embeddings:\n",
    "    print(\"Calculating party embeddings...\")\n",
    "    valid_parties_embeddings = calculate_party_embeddings(valid_parties, df_jobs, stat_cols, equip_factor)\n",
    "    save_party_embeddings(party_embeddings_filename, valid_parties_embeddings)\n",
    "else:\n",
    "    print(\"Loading party embeddings...\")\n",
    "    valid_parties_embeddings = load_party_embeddings(party_embeddings_filename)\n",
    "stop = time()\n",
    "print(f\"Needed {stop-start} seconds.\")"
   ]
  },
  {
   "cell_type": "code",
   "execution_count": 11,
   "id": "a07f358e-60a3-4559-ace7-16ec837c12c1",
   "metadata": {},
   "outputs": [
    {
     "name": "stdout",
     "output_type": "stream",
     "text": [
      "Notice: Available parties are too close to selected parties.\n",
      "Trying eps = 8.0 for party 1\n",
      "Notice: Available parties are too close to selected parties.\n",
      "Trying eps = 6.4 for party 1\n",
      "Notice: Available parties are too close to selected parties.\n",
      "Trying eps = 5.120000000000001 for party 1\n",
      "Notice: Available parties are too close to selected parties.\n",
      "Trying eps = 4.096000000000001 for party 1\n",
      "Notice: Available parties are too close to selected parties.\n",
      "Trying eps = 3.276800000000001 for party 1\n",
      "Notice: Available parties are too close to selected parties.\n",
      "Trying eps = 2.621440000000001 for party 2\n",
      "Needed 4.567400217056274 seconds.\n",
      "0 Time Mage,Red Mage,Samurai,Dragoon\n",
      "1 Knight,Freelancer,Mystic Knight,Thief\n",
      "2 White Mage,Knight,Dancer,Beastmaster\n",
      "3 Chemist,Ninja,Ranger,Knight\n",
      "4 Black Mage,Ninja,Geomancer,Summoner\n"
     ]
    }
   ],
   "source": [
    "# Try selecting jobs\n",
    "start = time()\n",
    "selected_parties = select_parties_by_embeddings(valid_parties_embeddings, num_parties=5, eps=10.0)\n",
    "#selected_parties = select_parties_randomly(valid_parties_embeddings, num_parties=5, eps=10.0)\n",
    "stop = time()\n",
    "print(f\"Needed {stop-start} seconds.\")\n",
    "\n",
    "for idx, party_tuple in enumerate(selected_parties):\n",
    "    print(f\"{idx} {party_tuple[0]}\")"
   ]
  },
  {
   "cell_type": "code",
   "execution_count": 12,
   "id": "efe41c8a-f083-4b6b-88db-6e3255737ed0",
   "metadata": {},
   "outputs": [
    {
     "name": "stdout",
     "output_type": "stream",
     "text": [
      "Trial 0 #######\n",
      "Notice: Available parties are too close to selected parties.\n",
      "Trying eps = 3.2 for party 1\n",
      "Notice: Available parties are too close to selected parties.\n",
      "Trying eps = 2.5600000000000005 for party 4\n",
      "Trial 1 #######\n",
      "Notice: Available parties are too close to selected parties.\n",
      "Trying eps = 3.2 for party 2\n",
      "Notice: Available parties are too close to selected parties.\n",
      "Trying eps = 2.5600000000000005 for party 4\n",
      "Trial 2 #######\n",
      "Notice: Available parties are too close to selected parties.\n",
      "Trying eps = 3.2 for party 2\n",
      "Notice: Available parties are too close to selected parties.\n",
      "Trying eps = 2.5600000000000005 for party 3\n",
      "Trial 3 #######\n",
      "Notice: Available parties are too close to selected parties.\n",
      "Trying eps = 3.2 for party 1\n",
      "Notice: Available parties are too close to selected parties.\n",
      "Trying eps = 2.5600000000000005 for party 3\n",
      "Trial 4 #######\n",
      "Notice: Available parties are too close to selected parties.\n",
      "Trying eps = 3.2 for party 1\n",
      "Notice: Available parties are too close to selected parties.\n",
      "Trying eps = 2.5600000000000005 for party 4\n",
      "Berserker,Dancer,Beastmaster,Freelancer\n",
      "Thief,Red Mage,White Mage,Beastmaster\n",
      "Monk,Freelancer,Mime,Time Mage\n",
      "Geomancer,Bard,Time Mage,Summoner\n",
      "Blue Mage,Berserker,Summoner,Knight\n",
      "[[0.         3.24175628 3.31247856 3.3554928  2.88850536]\n",
      " [3.24175628 0.         3.20177356 3.31995264 2.6117424 ]\n",
      " [3.31247856 3.20177356 0.         3.43452945 3.09898401]\n",
      " [3.3554928  3.31995264 3.43452945 0.         3.32545346]\n",
      " [2.88850536 2.6117424  3.09898401 3.32545346 0.        ]]\n",
      "Mime,Geomancer,Red Mage,Black Mage\n",
      "Monk,Dragoon,Freelancer,Knight\n",
      "Samurai,Berserker,Knight,Monk\n",
      "Thief,Mystic Knight,Ranger,Ninja\n",
      "Ninja,Summoner,Freelancer,Geomancer\n",
      "[[0.         4.03683995 3.27008952 3.535886   3.04764926]\n",
      " [4.03683995 0.         3.25008006 3.21413118 2.63585842]\n",
      " [3.27008952 3.25008006 0.         3.41871591 3.1767859 ]\n",
      " [3.535886   3.21413118 3.41871591 0.         3.50003237]\n",
      " [3.04764926 2.63585842 3.1767859  3.50003237 0.        ]]\n",
      "Ranger,White Mage,Summoner,Monk\n",
      "Monk,Freelancer,Berserker,Knight\n",
      "Thief,Mystic Knight,Ninja,Monk\n",
      "Bard,Dancer,Ranger,Dragoon\n",
      "Knight,Bard,Blue Mage,Red Mage\n",
      "[[0.         4.03106407 3.21327052 2.56137001 2.71809633]\n",
      " [4.03106407 0.         3.46677881 3.48122664 3.29920684]\n",
      " [3.21327052 3.46677881 0.         3.31550494 2.60006188]\n",
      " [2.56137001 3.48122664 3.31550494 0.         3.12807785]\n",
      " [2.71809633 3.29920684 2.60006188 3.12807785 0.        ]]\n",
      "Thief,White Mage,Mime,Samurai\n",
      "Chemist,Ninja,Time Mage,Freelancer\n",
      "Berserker,Knight,Monk,Beastmaster\n",
      "Dancer,Time Mage,Mime,Bard\n",
      "Samurai,Chemist,Dragoon,Monk\n",
      "[[0.         3.24367253 3.30875542 2.57312845 3.45809408]\n",
      " [3.24367253 0.         3.227568   2.64789172 2.69429566]\n",
      " [3.30875542 3.227568   0.         3.05169053 2.88303689]\n",
      " [2.57312845 2.64789172 3.05169053 0.         3.26368322]\n",
      " [3.45809408 2.69429566 2.88303689 3.26368322 0.        ]]\n",
      "Thief,Bard,Mystic Knight,Knight\n",
      "Ninja,Beastmaster,Red Mage,Berserker\n",
      "Time Mage,Summoner,Black Mage,Bard\n",
      "White Mage,Freelancer,Summoner,Chemist\n",
      "Berserker,Monk,Dragoon,Black Mage\n",
      "[[0.         3.3266322  3.23385217 3.34760999 3.02331843]\n",
      " [3.3266322  0.         3.31981184 3.23128907 2.9725676 ]\n",
      " [3.23385217 3.31981184 0.         3.76679041 2.81545825]\n",
      " [3.34760999 3.23128907 3.76679041 0.         3.99821778]\n",
      " [3.02331843 2.9725676  2.81545825 3.99821778 0.        ]]\n"
     ]
    }
   ],
   "source": [
    "# Try some trials\n",
    "trials = run_trials(valid_parties_embeddings, num_parties=5, num_trials=5, eps=4.0, selector=select_parties_by_embeddings)\n",
    "\n",
    "# Print the results (nicely)\n",
    "for ps, m in trials:\n",
    "    for p in ps:\n",
    "        print(p)\n",
    "    print(m)"
   ]
  },
  {
   "cell_type": "code",
   "execution_count": null,
   "id": "be3d85c1-20e8-488a-84b9-f707b1d7bd31",
   "metadata": {},
   "outputs": [],
   "source": []
  }
 ],
 "metadata": {
  "kernelspec": {
   "display_name": "Python 3 (ipykernel)",
   "language": "python",
   "name": "python3"
  },
  "language_info": {
   "codemirror_mode": {
    "name": "ipython",
    "version": 3
   },
   "file_extension": ".py",
   "mimetype": "text/x-python",
   "name": "python",
   "nbconvert_exporter": "python",
   "pygments_lexer": "ipython3",
   "version": "3.10.12"
  }
 },
 "nbformat": 4,
 "nbformat_minor": 5
}
