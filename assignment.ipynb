{
 "cells": [
  {
   "cell_type": "markdown",
   "id": "c276be89-f1fd-43c0-a4b4-b286a7c637f6",
   "metadata": {},
   "source": [
    "## To Do\n",
    "* Compare to randomly generated parties\n",
    "* Clean up the code\n",
    "* Add more modes (Normal, Typhoon, Valcano, Duplicates, 750, no750, 375, Classic?, Onion?)\n",
    "* Try NN based embeddings\n",
    "* Make something available on the web (1st iteration, maybe with Google Forms or Sheets)\n",
    "* Ping Discord Channel for feedback"
   ]
  },
  {
   "cell_type": "code",
   "execution_count": 1,
   "id": "c4a094a9-ad77-4077-abc7-0022d65a7960",
   "metadata": {},
   "outputs": [],
   "source": [
    "from copy import copy\n",
    "import numpy as np\n",
    "import pandas as pd\n",
    "from numpy.linalg import norm\n",
    "from random import randint, seed\n",
    "from time import time\n",
    "\n",
    "from data import load_data, load_party_embeddings, save_party_embeddings\n",
    "from embeddings import calculate_party_embeddings\n",
    "from generate_possible_jobs import generate_possible_jobs\n",
    "\n",
    "seed(a=None)  # Initialize the random seed"
   ]
  },
  {
   "cell_type": "code",
   "execution_count": 2,
   "id": "e2b28529-fb7d-458e-9ef7-384bc392f7a8",
   "metadata": {},
   "outputs": [],
   "source": [
    "# Set some parameters\n",
    "equip_factor = 0.5\n",
    "should_calculate_party_embeddings = True\n",
    "party_embeddings_filename = f\"data/embeddings_meteor_duplicates_eq{equip_factor}.csv\""
   ]
  },
  {
   "cell_type": "code",
   "execution_count": 3,
   "id": "b174879c-0d63-4d36-a985-00cd7025581b",
   "metadata": {},
   "outputs": [],
   "source": [
    "#df_jobs = pd.read_csv(\"job_data_embeddings.csv\", index_col=\"Job\")\n",
    "#stat_cols = [\"Strength\", \"Agility\", \"Vitality\", \"Magic\"]\n",
    "df_jobs, stat_cols = load_data(\"job_data_embeddings.csv\")"
   ]
  },
  {
   "cell_type": "code",
   "execution_count": 4,
   "id": "b4c6e333-8657-4bdb-a64a-610c19a458a3",
   "metadata": {},
   "outputs": [
    {
     "name": "stdout",
     "output_type": "stream",
     "text": [
      "Needed 10.254088401794434 seconds.\n"
     ]
    }
   ],
   "source": [
    "# Generate all possible parties\n",
    "start = time()\n",
    "valid_parties = generate_possible_jobs(style=\"Meteor\", df_jobs=df_jobs, stat_cols=stat_cols)\n",
    "stop = time()\n",
    "print(f\"Needed {stop-start} seconds.\")"
   ]
  },
  {
   "cell_type": "code",
   "execution_count": 5,
   "id": "4e90646c-fbf4-441c-861f-e32bc69c1c10",
   "metadata": {},
   "outputs": [
    {
     "name": "stdout",
     "output_type": "stream",
     "text": [
      "Calculating party embeddings...\n",
      "On 0 / 234256\n",
      "On 10000 / 234256\n",
      "On 20000 / 234256\n",
      "On 30000 / 234256\n",
      "On 40000 / 234256\n",
      "On 50000 / 234256\n",
      "On 60000 / 234256\n",
      "On 70000 / 234256\n",
      "On 80000 / 234256\n",
      "On 90000 / 234256\n",
      "On 100000 / 234256\n",
      "On 110000 / 234256\n",
      "On 120000 / 234256\n",
      "On 130000 / 234256\n",
      "On 140000 / 234256\n",
      "On 150000 / 234256\n",
      "On 160000 / 234256\n",
      "On 170000 / 234256\n",
      "On 180000 / 234256\n",
      "On 190000 / 234256\n",
      "On 200000 / 234256\n",
      "On 210000 / 234256\n",
      "On 220000 / 234256\n",
      "On 230000 / 234256\n",
      "Needed 1015.4792678356171 seconds.\n"
     ]
    }
   ],
   "source": [
    "# Calculate or load the party embeddings\n",
    "start = time()\n",
    "if should_calculate_party_embeddings:\n",
    "    print(\"Calculating party embeddings...\")\n",
    "    valid_parties_embeddings = calculate_party_embeddings(valid_parties, df_jobs, stat_cols, equip_factor)\n",
    "    save_party_embeddings(party_embeddings_filename, valid_parties_embeddings)\n",
    "else:\n",
    "    print(\"Loading party embeddings...\")\n",
    "    valid_parties_embeddings = load_party_embeddings(party_embeddings_filename)\n",
    "stop = time()\n",
    "print(f\"Needed {stop-start} seconds.\")"
   ]
  },
  {
   "cell_type": "code",
   "execution_count": null,
   "id": "ae78e8d8-c20a-4149-91a9-c7ac166d229d",
   "metadata": {},
   "outputs": [],
   "source": []
  },
  {
   "cell_type": "code",
   "execution_count": null,
   "id": "554d31b3-36fd-4f7b-8600-ac6e32a991ab",
   "metadata": {},
   "outputs": [],
   "source": []
  },
  {
   "cell_type": "code",
   "execution_count": null,
   "id": "a2c51360-46fc-4664-83fd-0d4c3c8534a0",
   "metadata": {},
   "outputs": [],
   "source": [
    "!!!! Continue refactoring from here! !!!!"
   ]
  },
  {
   "cell_type": "code",
   "execution_count": null,
   "id": "601910d2-402f-49bc-b87f-c5fd6ebaa818",
   "metadata": {},
   "outputs": [],
   "source": [
    "def select_jobs(valid_parties, num_parties=10, eps=1.0):\n",
    "\n",
    "    available_parties = copy(valid_parties)  # Maybe a copy is too much...\n",
    "    selected_parties = []\n",
    "    unavailable_parties = []\n",
    "    #still_available_parties = []\n",
    "\n",
    "    if num_parties > len(valid_parties):\n",
    "        num_parties = len(valid_parties)\n",
    "        print(f\"Notice: num_parties was larger than the number of valid parties. Setting num_parties to {num_parties}.\")\n",
    "    \n",
    "    for idx_party in range(0, num_parties):\n",
    "\n",
    "        # Select a party\n",
    "        chosen_party_idx = randint(0, len(available_parties)-1)\n",
    "        selected_parties.append(available_parties[chosen_party_idx])\n",
    "        available_parties[chosen_party_idx] = available_parties[-1]\n",
    "        available_parties.pop()\n",
    "\n",
    "        #print(selected_parties)\n",
    "        \n",
    "        # Organize the available parties by whether they are close to the chosen party or not\n",
    "        close_parties, far_parties = organize_parties(selected_parties[-1][1], available_parties, eps)\n",
    "        available_parties = far_parties\n",
    "        unavailable_parties += close_parties\n",
    "\n",
    "        # Make sure there there are still parties available. If not, decrease eps.\n",
    "        if len(selected_parties) != len(valid_parties):\n",
    "            while len(available_parties) == 0:\n",
    "                eps *= 0.8\n",
    "                available_parties = unavailable_parties  # Make all remaining parties available again\n",
    "                unavailable_parties = []\n",
    "    \n",
    "                print(\"Notice: Available parties are too close to selected parties.\")\n",
    "                print(f\"Trying eps = {eps} for party {idx_party+1}\")\n",
    "                \n",
    "                # Make parties unavailable again if they are too close to an already selected party\n",
    "                for selected_party in selected_parties:\n",
    "                    close_parties, far_parties = organize_parties(selected_party[1], available_parties, eps)\n",
    "                    available_parties = far_parties\n",
    "                    unavailable_parties += close_parties\n",
    "\n",
    "    return selected_parties\n",
    "        \n",
    "\n",
    "def organize_parties(chosen_party_embedding, available_parties, eps=1.0):\n",
    "    close_parties = []\n",
    "    far_parties = []\n",
    "\n",
    "    for party_idx, party_embedding in available_parties:\n",
    "        if norm(chosen_party_embedding - party_embedding, ord=2) < eps:\n",
    "            close_parties.append((party_idx, party_embedding))\n",
    "        else:\n",
    "            far_parties.append((party_idx, party_embedding))\n",
    "\n",
    "    return close_parties, far_parties"
   ]
  },
  {
   "cell_type": "code",
   "execution_count": null,
   "id": "a07f358e-60a3-4559-ace7-16ec837c12c1",
   "metadata": {},
   "outputs": [],
   "source": [
    "start = time()\n",
    "selected_parties = select_jobs(valid_parties_embeddings, num_parties=5, eps=10.0)\n",
    "stop = time()\n",
    "print(f\"Needed {stop-start} seconds.\")"
   ]
  },
  {
   "cell_type": "code",
   "execution_count": null,
   "id": "7ae49907-1625-4887-ba5b-ca183b539940",
   "metadata": {},
   "outputs": [],
   "source": [
    "for idx, party_tuple in enumerate(selected_parties):\n",
    "    print(f\"{idx} {party_tuple[0]}\")"
   ]
  },
  {
   "cell_type": "code",
   "execution_count": null,
   "id": "410ae3c0-5d26-4655-8f45-e2b694baa53f",
   "metadata": {},
   "outputs": [],
   "source": [
    "def generate_comparison_matrix(selected_parties):\n",
    "\n",
    "    comparison_matrix = np.zeros((len(selected_parties), len(selected_parties)), dtype=float)\n",
    "    \n",
    "    for row_idx, row_tuple in enumerate(selected_parties):\n",
    "        for col_idx, col_tuple in enumerate(selected_parties):\n",
    "            _, embedding_row = row_tuple\n",
    "            _, embedding_col = col_tuple\n",
    "            comparison_matrix[row_idx][col_idx] = norm(embedding_row - embedding_col, ord=2)\n",
    "    return comparison_matrix"
   ]
  },
  {
   "cell_type": "code",
   "execution_count": null,
   "id": "8944a959-75fd-49a8-b8f6-9ac20b0405ea",
   "metadata": {},
   "outputs": [],
   "source": [
    "def run_trials(valid_parties_embeddings, num_parties, num_trials, eps):\n",
    "    trials = []\n",
    "    for t in range(num_trials):\n",
    "        print(f\"Trial {t} #######\")\n",
    "        selected_parties = select_jobs(valid_parties_embeddings, num_parties, eps)\n",
    "        comparison_matrix = generate_comparison_matrix(selected_parties)\n",
    "        \n",
    "        trials.append(([p[0] for p in selected_parties], comparison_matrix))\n",
    "    return trials"
   ]
  },
  {
   "cell_type": "code",
   "execution_count": null,
   "id": "efe41c8a-f083-4b6b-88db-6e3255737ed0",
   "metadata": {},
   "outputs": [],
   "source": [
    "trials = run_trials(valid_parties_embeddings, num_parties=5, num_trials=5, eps=3.0)"
   ]
  },
  {
   "cell_type": "code",
   "execution_count": null,
   "id": "b0c41289-b3eb-42fe-bf7a-8585d14b510f",
   "metadata": {},
   "outputs": [],
   "source": [
    "trials"
   ]
  },
  {
   "cell_type": "code",
   "execution_count": null,
   "id": "9bb02267-9647-45b4-b08d-31848e0ad0c0",
   "metadata": {},
   "outputs": [],
   "source": []
  },
  {
   "cell_type": "code",
   "execution_count": null,
   "id": "0cd46ad9-508d-4017-9181-f51516f8e3f7",
   "metadata": {},
   "outputs": [],
   "source": []
  },
  {
   "cell_type": "code",
   "execution_count": null,
   "id": "3f728a44-3349-4859-8a6d-94c92d0afc57",
   "metadata": {},
   "outputs": [],
   "source": []
  },
  {
   "cell_type": "markdown",
   "id": "3f547331-a68b-4760-aafc-93ef122bdaa0",
   "metadata": {},
   "source": [
    "## Testing"
   ]
  },
  {
   "cell_type": "code",
   "execution_count": null,
   "id": "7f675b8d-a7b5-41f3-8a6f-9804078cde99",
   "metadata": {},
   "outputs": [],
   "source": [
    "# Bards vs physical\n",
    "print(norm(valid_jobs[0][1] - valid_jobs[97145][1], ord=2))\n",
    "\n",
    "# Bards vs almost bards\n",
    "print(norm(valid_jobs[0][1] - valid_jobs[1][1], ord=2))"
   ]
  },
  {
   "cell_type": "code",
   "execution_count": null,
   "id": "51e1bce5-8dc6-4eb3-b2d8-5cb2a5e66aad",
   "metadata": {},
   "outputs": [],
   "source": []
  },
  {
   "cell_type": "code",
   "execution_count": null,
   "id": "254985c3-e3de-472e-8aeb-dc99b8418288",
   "metadata": {},
   "outputs": [],
   "source": []
  },
  {
   "cell_type": "code",
   "execution_count": null,
   "id": "04f4dde9-de62-4b2c-844c-5d4354817a30",
   "metadata": {},
   "outputs": [],
   "source": []
  },
  {
   "cell_type": "code",
   "execution_count": null,
   "id": "58432045-fd14-4438-82dd-bdab7c9d28b7",
   "metadata": {},
   "outputs": [],
   "source": []
  },
  {
   "cell_type": "code",
   "execution_count": null,
   "id": "3fd2ed7d-a495-4b2b-97fe-8c5ce2615b6d",
   "metadata": {},
   "outputs": [],
   "source": []
  }
 ],
 "metadata": {
  "kernelspec": {
   "display_name": "Python 3 (ipykernel)",
   "language": "python",
   "name": "python3"
  },
  "language_info": {
   "codemirror_mode": {
    "name": "ipython",
    "version": 3
   },
   "file_extension": ".py",
   "mimetype": "text/x-python",
   "name": "python",
   "nbconvert_exporter": "python",
   "pygments_lexer": "ipython3",
   "version": "3.10.12"
  }
 },
 "nbformat": 4,
 "nbformat_minor": 5
}
