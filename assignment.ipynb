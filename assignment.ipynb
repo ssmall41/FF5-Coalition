{
 "cells": [
  {
   "cell_type": "markdown",
   "id": "c276be89-f1fd-43c0-a4b4-b286a7c637f6",
   "metadata": {},
   "source": [
    "## To Do\n",
    "* Add more modes (Typhoon, Valcano, 750, no750, 375, Classic, Onion)\n",
    "* Try NN based embeddings\n",
    "* Make something available on the web (1st iteration, maybe with Google Forms or Sheets)\n",
    "* Ping Discord Channel for feedback\n",
    "* Do a proper analysis. Show means and stats for different styles.\n",
    "* Give a proper write-up for how it all works"
   ]
  },
  {
   "cell_type": "code",
   "execution_count": 1,
   "id": "c4a094a9-ad77-4077-abc7-0022d65a7960",
   "metadata": {},
   "outputs": [],
   "source": [
    "import numpy as np\n",
    "import pandas as pd\n",
    "from numpy.linalg import norm\n",
    "from random import randint, seed\n",
    "from time import time\n",
    "\n",
    "from data import load_data, load_party_embeddings, save_party_embeddings\n",
    "from embeddings import calculate_party_embeddings\n",
    "from experiment import run_trials\n",
    "from generate_possible_jobs import generate_possible_parties\n",
    "from select_parties import select_parties_by_embeddings, select_parties_randomly\n",
    "\n",
    "seed(a=None)  # Initialize the random seed"
   ]
  },
  {
   "cell_type": "code",
   "execution_count": 2,
   "id": "e2b28529-fb7d-458e-9ef7-384bc392f7a8",
   "metadata": {},
   "outputs": [],
   "source": [
    "# Set some parameters\n",
    "run_style = \"Meteor\"\n",
    "duplicates = False\n",
    "equip_factor = 0.5\n",
    "should_calculate_party_embeddings = True\n",
    "broken_jobs = [\"Summoner\", \"Black Mage\", \"Chemist\"]\n",
    "if duplicates:\n",
    "    party_embeddings_filename = f\"data/embeddings_{run_style.lower()}_duplicates_eq{equip_factor}.csv\"\n",
    "else:\n",
    "    party_embeddings_filename = f\"data/embeddings_{run_style.lower()}_eq{equip_factor}.csv\""
   ]
  },
  {
   "cell_type": "code",
   "execution_count": 3,
   "id": "b174879c-0d63-4d36-a985-00cd7025581b",
   "metadata": {},
   "outputs": [],
   "source": [
    "# Load data for each job\n",
    "df_jobs, stat_cols = load_data(\"data_jobs/job_data_embeddings.csv\")"
   ]
  },
  {
   "cell_type": "code",
   "execution_count": 4,
   "id": "b4c6e333-8657-4bdb-a64a-610c19a458a3",
   "metadata": {},
   "outputs": [
    {
     "name": "stdout",
     "output_type": "stream",
     "text": [
      "Needed 0.4166896343231201 seconds.\n"
     ]
    }
   ],
   "source": [
    "# Generate all possible parties\n",
    "start = time()\n",
    "valid_parties = generate_possible_parties(run=run_style, df_jobs=df_jobs, duplicates=duplicates)\n",
    "stop = time()\n",
    "print(f\"Needed {stop-start} seconds.\")"
   ]
  },
  {
   "cell_type": "code",
   "execution_count": 5,
   "id": "4e90646c-fbf4-441c-861f-e32bc69c1c10",
   "metadata": {},
   "outputs": [
    {
     "name": "stdout",
     "output_type": "stream",
     "text": [
      "Calculating party embeddings...\n",
      "On 0 / 175560\n",
      "On 10000 / 175560\n",
      "On 20000 / 175560\n",
      "On 30000 / 175560\n",
      "On 40000 / 175560\n",
      "On 50000 / 175560\n",
      "On 60000 / 175560\n",
      "On 70000 / 175560\n",
      "On 80000 / 175560\n",
      "On 90000 / 175560\n",
      "On 100000 / 175560\n",
      "On 110000 / 175560\n",
      "On 120000 / 175560\n",
      "On 130000 / 175560\n",
      "On 140000 / 175560\n",
      "On 150000 / 175560\n",
      "On 160000 / 175560\n",
      "On 170000 / 175560\n",
      "Needed 1282.0336446762085 seconds.\n"
     ]
    }
   ],
   "source": [
    "# Calculate or load the party embeddings\n",
    "start = time()\n",
    "if should_calculate_party_embeddings:\n",
    "    print(\"Calculating party embeddings...\")\n",
    "    valid_parties_embeddings = calculate_party_embeddings(valid_parties, df_jobs, stat_cols, broken_jobs, equip_factor)\n",
    "    save_party_embeddings(party_embeddings_filename, valid_parties_embeddings)\n",
    "else:\n",
    "    print(\"Loading party embeddings...\")\n",
    "    valid_parties_embeddings = load_party_embeddings(party_embeddings_filename)\n",
    "stop = time()\n",
    "print(f\"Needed {stop-start} seconds.\")"
   ]
  },
  {
   "cell_type": "code",
   "execution_count": 6,
   "id": "a07f358e-60a3-4559-ace7-16ec837c12c1",
   "metadata": {},
   "outputs": [
    {
     "name": "stdout",
     "output_type": "stream",
     "text": [
      "Needed 12.001895904541016 seconds.\n",
      "0 Geomancer,Freelancer,Blue Mage,Bard\n",
      "1 Black Mage,Samurai,Berserker,Mime\n",
      "2 Mystic Knight,Beastmaster,Ninja,Dancer\n",
      "3 Red Mage,Dancer,Time Mage,Bard\n",
      "4 Berserker,White Mage,Knight,Thief\n"
     ]
    }
   ],
   "source": [
    "# Try selecting jobs\n",
    "start = time()\n",
    "selected_parties = select_parties_by_embeddings(valid_parties_embeddings, num_parties=5, eps=10.0)\n",
    "#selected_parties = select_parties_randomly(valid_parties_embeddings, num_parties=5, eps=10.0)\n",
    "stop = time()\n",
    "print(f\"Needed {stop-start} seconds.\")\n",
    "\n",
    "for idx, party_tuple in enumerate(selected_parties):\n",
    "    print(f\"{idx} {party_tuple[0]}\")"
   ]
  },
  {
   "cell_type": "code",
   "execution_count": null,
   "id": "efe41c8a-f083-4b6b-88db-6e3255737ed0",
   "metadata": {},
   "outputs": [],
   "source": [
    "# Try some trials\n",
    "trials = run_trials(valid_parties_embeddings, num_parties=5, num_trials=1000, eps=4.0, \n",
    "                    selector=select_parties_by_embeddings)\n",
    "\n",
    "# Print the results (nicely)\n",
    "if False:\n",
    "    print(\"Mean of comparison matrices is\")\n",
    "    print(sum(trial[1] for trial in trials) / len(trials))\n",
    "    for ps, m in trials:\n",
    "        for p in ps:\n",
    "            print(p)\n",
    "        print(m)"
   ]
  },
  {
   "cell_type": "code",
   "execution_count": null,
   "id": "5a1d1f0d-ce02-482e-8e82-d75768fe4b1d",
   "metadata": {},
   "outputs": [],
   "source": [
    "# Write to output file\n",
    "output = []\n",
    "for t in trials:\n",
    "    output.append(\",\".join(t[0]).split(\",\"))\n",
    "df_output = pd.DataFrame(output)\n",
    "if duplicates:\n",
    "    df_output.to_csv(f\"output/{run_style.lower()}_duplicates.csv\", index=False, header=False)\n",
    "else:\n",
    "    df_output.to_csv(f\"output/{run_style.lower()}.csv\", index=False, header=False)"
   ]
  },
  {
   "cell_type": "code",
   "execution_count": null,
   "id": "aec9c9f4-e2d5-4528-8742-27d57a4fabff",
   "metadata": {},
   "outputs": [],
   "source": []
  }
 ],
 "metadata": {
  "kernelspec": {
   "display_name": "Python 3 (ipykernel)",
   "language": "python",
   "name": "python3"
  },
  "language_info": {
   "codemirror_mode": {
    "name": "ipython",
    "version": 3
   },
   "file_extension": ".py",
   "mimetype": "text/x-python",
   "name": "python",
   "nbconvert_exporter": "python",
   "pygments_lexer": "ipython3",
   "version": "3.10.12"
  }
 },
 "nbformat": 4,
 "nbformat_minor": 5
}
