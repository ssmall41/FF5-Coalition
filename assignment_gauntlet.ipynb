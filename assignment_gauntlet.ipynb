{
 "cells": [
  {
   "cell_type": "markdown",
   "id": "88556bd9-0aa6-460d-95a6-7264cd1d3735",
   "metadata": {},
   "source": [
    "# Assignments for Gauntlet Runs\n",
    "This notebook generates coalitions for a gauntlet run. The last cell writes a bunch of coalitions to a file that can be uploaded to the online website."
   ]
  },
  {
   "cell_type": "code",
   "execution_count": 1,
   "id": "e863c858-9c08-4f94-966f-bc9cd3a32aae",
   "metadata": {},
   "outputs": [],
   "source": [
    "from data import load_data\n",
    "import csv\n",
    "from gauntlet import generate_gauntlet_runs"
   ]
  },
  {
   "cell_type": "code",
   "execution_count": 2,
   "id": "3ca4162a-59e9-4b86-8c15-e3fb53d307a0",
   "metadata": {},
   "outputs": [],
   "source": [
    "# Set some parameters\n",
    "run_style = \"Regular\"\n",
    "num_coalitions = 10000\n",
    "output_filename = f\"output/gauntlet_{run_style.lower()}.csv\""
   ]
  },
  {
   "cell_type": "code",
   "execution_count": 3,
   "id": "5a03ece7-8bd3-4c16-a596-c98cef549e13",
   "metadata": {},
   "outputs": [],
   "source": [
    "# Load data for each job\n",
    "df_jobs, stat_cols = load_data(\"data_jobs/job_data_embeddings.csv\")"
   ]
  },
  {
   "cell_type": "code",
   "execution_count": 4,
   "id": "354d03ec-e63b-4d87-ae09-fb7969d3da65",
   "metadata": {},
   "outputs": [],
   "source": [
    "# Generate a bunch of coalitions of parties\n",
    "parties = []\n",
    "for i in range(num_coalitions):\n",
    "    selected_parties = generate_gauntlet_runs(run_style, df_jobs)\n",
    "    selected_parties_flat = [job for party in selected_parties for job in party]\n",
    "    parties.append(selected_parties_flat)"
   ]
  },
  {
   "cell_type": "code",
   "execution_count": 5,
   "id": "67257d66-9b46-45b1-a242-7a8ae4c5a968",
   "metadata": {},
   "outputs": [],
   "source": [
    "# Write the selected parties to a csv\n",
    "with open(output_filename, 'w', newline='') as csvfile:\n",
    "    writer = csv.writer(csvfile, delimiter=',')\n",
    "    for party in parties:\n",
    "        writer.writerow(party)"
   ]
  },
  {
   "cell_type": "code",
   "execution_count": null,
   "id": "bff57705-79db-499e-a665-ee8c0ebcfb3a",
   "metadata": {},
   "outputs": [],
   "source": []
  }
 ],
 "metadata": {
  "kernelspec": {
   "display_name": "Python 3 (ipykernel)",
   "language": "python",
   "name": "python3"
  },
  "language_info": {
   "codemirror_mode": {
    "name": "ipython",
    "version": 3
   },
   "file_extension": ".py",
   "mimetype": "text/x-python",
   "name": "python",
   "nbconvert_exporter": "python",
   "pygments_lexer": "ipython3",
   "version": "3.10.12"
  }
 },
 "nbformat": 4,
 "nbformat_minor": 5
}
