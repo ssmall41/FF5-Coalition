{
 "cells": [
  {
   "cell_type": "code",
   "execution_count": null,
   "id": "4e0db03f-61e7-4cb9-bebb-03220bfc3083",
   "metadata": {},
   "outputs": [],
   "source": [
    "import pandas as pd\n",
    "import torch\n",
    "import torch.nn as nn\n",
    "import torch.nn.functional as F\n",
    "import torch.optim as optim\n",
    "from torch.utils.data import Dataset, DataLoader\n",
    "import torch.optim as optim\n",
    "from torchvision import datasets, transforms"
   ]
  },
  {
   "cell_type": "code",
   "execution_count": null,
   "id": "00d2adfa-0432-4022-8a44-dfc2fddbed8c",
   "metadata": {},
   "outputs": [],
   "source": [
    "class EncoderDecoder(nn.Module):\n",
    "    def __init__(self, n_features, size_embedding):\n",
    "        super(EncoderDecoder, self).__init__()\n",
    "        self.fc1 = nn.Linear(n_features, size_embedding)\n",
    "        self.fc2 = nn.Linear(size_embedding, n_features)\n",
    "\n",
    "    def forward(self, x, should_output_embedding=False):\n",
    "        embedding = self.fc1(x)\n",
    "        x = F.relu(embedding)\n",
    "        x = self.fc2(x)\n",
    "        #x = F.relu(x)\n",
    "        return embedding if should_output_embedding else x"
   ]
  },
  {
   "cell_type": "code",
   "execution_count": null,
   "id": "c2c844b0-7400-42a7-aa02-03219f525794",
   "metadata": {},
   "outputs": [],
   "source": [
    "def train_model(dataloader_train, dataloader_test, size_embedding, optimizer, epoch, device=\"cpu\"):\n",
    "    loss_function = nn.MSELoss()\n",
    "    model.train()\n",
    "    for batch_idx, data in enumerate(dataloader_train):\n",
    "        data = data.to(device)\n",
    "        optimizer.zero_grad()\n",
    "        output = model(data)\n",
    "        loss = loss_function(output, data)\n",
    "        loss.backward()\n",
    "        optimizer.step()\n",
    "        \n",
    "        if batch_idx % 10 == 0:\n",
    "            print('Train Epoch: {} [{}/{} ({:.0f}%)]\\tLoss: {:.6f}'.format(\n",
    "                epoch, batch_idx * len(data), len(dataloader_train.dataset),\n",
    "                100. * batch_idx / len(dataloader_train), loss.item()))\n",
    "        "
   ]
  },
  {
   "cell_type": "code",
   "execution_count": null,
   "id": "64ce1db7-8ded-42e1-abe2-312e31f3f971",
   "metadata": {},
   "outputs": [],
   "source": [
    "class PartyEmbeddingDataset(Dataset):\n",
    "\n",
    "    def __init__(self, df):\n",
    "        self.df_data = df\n",
    "\n",
    "    def __len__(self):\n",
    "        return len(self.df_data)\n",
    "\n",
    "    def __getitem__(self, idx):\n",
    "        #return self.df_data.iloc[idx]\n",
    "        return torch.Tensor(list(self.df_data.iloc[idx]))"
   ]
  },
  {
   "cell_type": "code",
   "execution_count": null,
   "id": "69a49b27-f69e-4a8e-a5d0-2927d894363e",
   "metadata": {},
   "outputs": [],
   "source": [
    "# Load the data and split it into train/test\n",
    "filename = \"data/embeddings_meteor_duplicates_eq0.5.csv\"\n",
    "df_data = pd.read_csv(filename, index_col=0)\n",
    "df_train = df_data.sample(frac=0.8)\n",
    "df_test = df_data.drop(df_train.index)\n",
    "\n",
    "# Create Datasets\n",
    "dataset_train = PartyEmbeddingDataset(df_train)\n",
    "dataset_test = PartyEmbeddingDataset(df_test)\n",
    "\n",
    "# Create DataLoaders\n",
    "dataloader_train = DataLoader(dataset_train, batch_size=1000, shuffle=True, num_workers=0)\n",
    "dataloader_test = DataLoader(dataset_test, batch_size=4, shuffle=False, num_workers=0)"
   ]
  },
  {
   "cell_type": "code",
   "execution_count": null,
   "id": "0eff77ad-a7b9-4a77-b2dc-caf17f2645b1",
   "metadata": {},
   "outputs": [],
   "source": [
    "# Set some parameters\n",
    "size_embedding = 10\n",
    "epochs = 10\n",
    "lr = 0.5\n",
    "n_features = len(df_train.columns)\n",
    "device = \"cpu\"\n",
    "\n",
    "model = EncoderDecoder(n_features, size_embedding).to(device)\n",
    "optimizer = optim.Adam(model.parameters(), lr=lr)"
   ]
  },
  {
   "cell_type": "code",
   "execution_count": null,
   "id": "b12a867a-c739-490c-a124-ef5598ca0d07",
   "metadata": {},
   "outputs": [],
   "source": [
    "# Train\n",
    "for epoch in range(epochs):\n",
    "    train_model(dataloader_train, dataloader_test, size_embedding=size_embedding, optimizer=optimizer, epoch=epoch, device=device)"
   ]
  },
  {
   "cell_type": "code",
   "execution_count": null,
   "id": "82653d45-7574-488b-8673-3ca47c2ac652",
   "metadata": {},
   "outputs": [],
   "source": []
  }
 ],
 "metadata": {
  "kernelspec": {
   "display_name": "Python 3 (ipykernel)",
   "language": "python",
   "name": "python3"
  },
  "language_info": {
   "codemirror_mode": {
    "name": "ipython",
    "version": 3
   },
   "file_extension": ".py",
   "mimetype": "text/x-python",
   "name": "python",
   "nbconvert_exporter": "python",
   "pygments_lexer": "ipython3",
   "version": "3.10.12"
  }
 },
 "nbformat": 4,
 "nbformat_minor": 5
}
